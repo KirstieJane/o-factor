{
 "cells": [
  {
   "cell_type": "code",
   "execution_count": 268,
   "metadata": {},
   "outputs": [],
   "source": [
    "import numpy as np\n",
    "import pandas as pd\n",
    "from collections import defaultdict\n",
    "\n",
    "import requests\n",
    "from bs4 import BeautifulSoup\n",
    "import re\n",
    "import os\n",
    "import time\n",
    "import csv\n",
    "\n",
    "import matplotlib.pyplot as plt\n",
    "%matplotlib inline"
   ]
  },
  {
   "cell_type": "code",
   "execution_count": 269,
   "metadata": {},
   "outputs": [],
   "source": [
    "apikey = open('apikey.txt', 'r').read()\n",
    "db = 'pmc'\n",
    "base = 'http://eutils.ncbi.nlm.nih.gov/entrez/eutils/efetch.fcgi?'\n",
    "pmcid = 'PMC3463246'\n",
    "s = '{:s}db={:s}&id={:s}'.format(base, db, pmcid, apikey)"
   ]
  },
  {
   "cell_type": "code",
   "execution_count": 270,
   "metadata": {},
   "outputs": [],
   "source": [
    "out = requests.get(s)\n",
    "bs = BeautifulSoup(out.content, 'lxml')\n",
    "bs.prettify;"
   ]
  },
  {
   "cell_type": "code",
   "execution_count": 271,
   "metadata": {},
   "outputs": [],
   "source": [
    "### Get article metadata\n",
    "\n",
    "title = bs.find('title-group').find('article-title').text\n",
    "abstract = bs.abstract.text\n",
    "\n",
    "# Article ids\n",
    "pub_id_type = [i['pub-id-type'] for i in bs.findAll('article-id')]\n",
    "pub_id_nr = [i.text for i in bs.findAll('article-id')]\n",
    "pub_ids = list(zip(pub_id_type, pub_id_nr))\n",
    "\n",
    "# Dates\n",
    "date_tags = [i['pub-type'] for i in bs.findAll('pub-date')]\n",
    "date_years = [i.year.text for i in bs.findAll('pub-date')]\n",
    "dates = list(zip(date_tags, date_years))\n",
    "\n",
    "# Author list and affiliations\n",
    "names = [i.text for i in bs.find('contrib-group').findAll('given-names')]\n",
    "surnames = [i.text for i in bs.find('contrib-group').findAll('surname')]\n",
    "authors = list(zip(names, surnames))\n",
    "affiliations = [i.text for i in bs.findAll('aff')]  # TODO: exclude <label># \n",
    "\n",
    "# Article keywords\n",
    "keywords = [i.text for i in bs.find('kwd-group').findAll('kwd')]\n",
    "\n",
    "# Journal\n",
    "journal_title = bs.find('journal-title-group').find('journal-title').text\n",
    "\n",
    "# Check if full text available\n",
    "full_text_available = bs.findAll('sec') == []  # TODO: find a better way to check"
   ]
  },
  {
   "cell_type": "code",
   "execution_count": 281,
   "metadata": {},
   "outputs": [
    {
     "name": "stdout",
     "output_type": "stream",
     "text": [
      "Full text available?: False\n"
     ]
    }
   ],
   "source": [
    "print('Full text available?:', full_text_available)"
   ]
  },
  {
   "cell_type": "code",
   "execution_count": 279,
   "metadata": {},
   "outputs": [
    {
     "name": "stdout",
     "output_type": "stream",
     "text": [
      "eLife\n"
     ]
    }
   ],
   "source": [
    "print(journal_title)"
   ]
  },
  {
   "cell_type": "code",
   "execution_count": 273,
   "metadata": {},
   "outputs": [
    {
     "name": "stdout",
     "output_type": "stream",
     "text": [
      "A bacterial sulfonolipid triggers multicellular development in the closest living relatives of animals\n"
     ]
    }
   ],
   "source": [
    "print(title)"
   ]
  },
  {
   "cell_type": "code",
   "execution_count": 274,
   "metadata": {
    "scrolled": true
   },
   "outputs": [
    {
     "name": "stdout",
     "output_type": "stream",
     "text": [
      "\n",
      "Bacterially-produced small molecules exert profound influences on animal health, morphogenesis, and evolution through poorly understood mechanisms. In one of the closest living relatives of animals, the choanoflagellate Salpingoeca rosetta, we find that rosette colony development is induced by the prey bacterium Algoriphagus machipongonensis and its close relatives in the Bacteroidetes phylum. Here we show that a rosette inducing factor (RIF-1) produced by A. machipongonensis belongs to the small class of sulfonolipids, obscure relatives of the better known sphingolipids that play important roles in signal transmission in plants, animals, and fungi. RIF-1 has extraordinary potency (femtomolar, or 10−15 M) and S. rosetta can respond to it over a broad dynamic range—nine orders of magnitude. This study provides a prototypical example of bacterial sulfonolipids triggering eukaryotic morphogenesis and suggests molecular mechanisms through which bacteria may have contributed to the evolution of animals.\n",
      "DOI:\n",
      "http://dx.doi.org/10.7554/eLife.00013.001\n",
      "\n"
     ]
    }
   ],
   "source": [
    "print(abstract)"
   ]
  },
  {
   "cell_type": "code",
   "execution_count": 280,
   "metadata": {},
   "outputs": [
    {
     "name": "stdout",
     "output_type": "stream",
     "text": [
      "['Salpingoeca rosetta', 'Algoriphagus', 'bacterial sulfonolipid', 'multicellular development']\n"
     ]
    }
   ],
   "source": [
    "print(keywords)"
   ]
  },
  {
   "cell_type": "code",
   "execution_count": 275,
   "metadata": {},
   "outputs": [
    {
     "name": "stdout",
     "output_type": "stream",
     "text": [
      "[('pmid', '23066504'), ('pmc', '3463246'), ('publisher-id', '00013'), ('doi', '10.7554/eLife.00013'), ('doi', '10.7554/eLife.00013.029'), ('doi', '10.7554/eLife.00013.030')]\n"
     ]
    }
   ],
   "source": [
    "print(pub_ids)"
   ]
  },
  {
   "cell_type": "code",
   "execution_count": 276,
   "metadata": {},
   "outputs": [
    {
     "name": "stdout",
     "output_type": "stream",
     "text": [
      "[('epub', '2012'), ('collection', '2012')]\n"
     ]
    }
   ],
   "source": [
    "print(dates)"
   ]
  },
  {
   "cell_type": "code",
   "execution_count": 277,
   "metadata": {},
   "outputs": [
    {
     "name": "stdout",
     "output_type": "stream",
     "text": [
      "[('Rosanna A', 'Alegado'), ('Laura W', 'Brown'), ('Shugeng', 'Cao'), ('Renee K', 'Dermenjian'), ('Richard', 'Zuzow'), ('Stephen R', 'Fairclough'), ('Jon', 'Clardy'), ('Nicole', 'King')]\n"
     ]
    }
   ],
   "source": [
    "print(authors)"
   ]
  },
  {
   "cell_type": "code",
   "execution_count": 278,
   "metadata": {},
   "outputs": [
    {
     "name": "stdout",
     "output_type": "stream",
     "text": [
      "['1Department of Molecular and Cell Biology, University of California, Berkeley, Berkeley, United States', '2Department of Biological Chemistry and Molecular Pharmacology, Harvard Medical School, Boston, United States', '3Department of Biochemistry, Stanford University School of Medicine, Stanford, United States', 'University of Washington, United States', 'University of Washington, United States']\n"
     ]
    }
   ],
   "source": [
    "print(affiliations)"
   ]
  }
 ],
 "metadata": {
  "kernelspec": {
   "display_name": "Python 3",
   "language": "python",
   "name": "python3"
  },
  "language_info": {
   "codemirror_mode": {
    "name": "ipython",
    "version": 3
   },
   "file_extension": ".py",
   "mimetype": "text/x-python",
   "name": "python",
   "nbconvert_exporter": "python",
   "pygments_lexer": "ipython3",
   "version": "3.7.0"
  }
 },
 "nbformat": 4,
 "nbformat_minor": 2
}
